{
 "cells": [
  {
   "cell_type": "markdown",
   "metadata": {},
   "source": [
    "## 神经网络设计\n",
    "\n",
    "- 激励函数sigmoid\n",
    "- 初始化权值矩阵\n",
    "- 定义参数参开和参数还原函数\n",
    "- 梯度下降检验，是否收敛\n",
    "- 代价函数\n",
    "- 前向传播\n",
    "- 反向传播\n",
    "- 权值更新\n",
    "- 梯度下降\n",
    "> 则整个网络的训练过程如下：\n",
    ">> - 默认由系统自动初始化权值矩阵\n",
    ">> - 默认为不含有隐层的感知器神经网络\n",
    ">> - 默认隐层单元数为 5 个\n",
    ">> - 默认学习率为 1\n",
    ">> - 默认不进行正规化\n",
    ">> - 默认误差精度为 10^(-2)\n",
    ">> - 默认最大迭代次数为 50 次\n",
    "\n",
    "在训练之前，我们会进行一次梯度校验来确定网络是否正确："
   ]
  },
  {
   "cell_type": "code",
   "execution_count": 1,
   "metadata": {
    "collapsed": true
   },
   "outputs": [],
   "source": [
    "import numpy as np\n",
    "from scipy.optimize import minimize\n",
    "from scipy import stats"
   ]
  },
  {
   "cell_type": "code",
   "execution_count": 1,
   "metadata": {
    "collapsed": true
   },
   "outputs": [],
   "source": [
    "def sigmoid(z):\n",
    "    \"\"\"\n",
    "    求解激励函数g(z) = 1/(1+exp(-x))\n",
    "    \"\"\"\n",
    "    pass\n",
    "\n",
    "def sigmoid_derevative(a):\n",
    "    \"\"\"\n",
    "    g'(z) = g(Z)(1-g(z)) = a(1-a)   ( a = g(z) )\n",
    "    \"\"\"\n",
    "    pass"
   ]
  },
  {
   "cell_type": "code",
   "execution_count": 2,
   "metadata": {
    "collapsed": true
   },
   "outputs": [],
   "source": [
    "def init_thetas(hidden_num, unit_num, input_size, class_num, eplison):\n",
    "    \"\"\"初始化权值矩阵\n",
    "    Args:\n",
    "        hiddenNum 隐层数目\n",
    "        unitNum 每个隐层的神经元数目\n",
    "        inputSize 输入层规模\n",
    "        classNum 分类数目\n",
    "        epsilon epsilon\n",
    "    Returns:\n",
    "        Thetas 权值矩阵序列\n",
    "    \"\"\"\n",
    "    pass"
   ]
  },
  {
   "cell_type": "code",
   "execution_count": 3,
   "metadata": {
    "collapsed": true
   },
   "outputs": [],
   "source": [
    "def unroll(matrixes):\n",
    "    \"\"\"参数展开\n",
    "    Args:\n",
    "        matrixes 矩阵\n",
    "    Return:\n",
    "        vec 向量\n",
    "    \"\"\"\n",
    "    pass\n",
    "\n",
    "def roll(vector, shapes):\n",
    "    \"\"\"参数恢复\n",
    "    Args:\n",
    "        vector 向量\n",
    "        shapes shape list\n",
    "    Returns:\n",
    "        matrixes 恢复的矩阵序列\n",
    "    \"\"\"\n",
    "    pass"
   ]
  },
  {
   "cell_type": "code",
   "execution_count": 4,
   "metadata": {
    "collapsed": true
   },
   "outputs": [],
   "source": [
    "def check_gradient(Thetas, X, y, regular_lambda):\n",
    "    \"\"\"梯度校验\n",
    "    Args:\n",
    "        Thetas 权值矩阵\n",
    "        X 样本\n",
    "        y 标签\n",
    "        regular_lambda 正规化参数\n",
    "    Returns:\n",
    "        checked 是否检测通过\n",
    "    \"\"\"\n",
    "    pass"
   ]
  },
  {
   "cell_type": "code",
   "execution_count": 5,
   "metadata": {
    "collapsed": true
   },
   "outputs": [],
   "source": [
    "def compute_cost(Thetas, y, regular_lambda, X=None, a=None):\n",
    "    \"\"\"计算代价\n",
    "    Args:\n",
    "        Thetas 权值矩阵序列\n",
    "        X 样本\n",
    "        y 标签集\n",
    "        a 各层激活值\n",
    "    Returns:\n",
    "        J 预测代价\n",
    "    \"\"\"\n",
    "    pass"
   ]
  },
  {
   "cell_type": "code",
   "execution_count": 6,
   "metadata": {
    "collapsed": true
   },
   "outputs": [],
   "source": [
    "def fp(Thetas, X):\n",
    "    \"\"\"前向反馈过程\n",
    "    Args:\n",
    "        Thetas 权值矩阵\n",
    "        X 输入样本\n",
    "    Returns:\n",
    "        a 各层激活向量\n",
    "    \"\"\""
   ]
  },
  {
   "cell_type": "code",
   "execution_count": 7,
   "metadata": {
    "collapsed": true
   },
   "outputs": [],
   "source": [
    "def bp(Thetas, a, y, regular_lambda):\n",
    "    \"\"\"反向传播过程\n",
    "    Args:\n",
    "        a 激活值\n",
    "        y 标签\n",
    "    Returns:\n",
    "        D 权值梯度\n",
    "    \"\"\""
   ]
  },
  {
   "cell_type": "code",
   "execution_count": 8,
   "metadata": {
    "collapsed": true
   },
   "outputs": [],
   "source": [
    "def update_thetas(m, Thetas, D, alpha, regular_lambda):\n",
    "    \"\"\"更新权值\n",
    "    Args:\n",
    "        m 样本数\n",
    "        Thetas 各层权值矩阵\n",
    "        D 梯度\n",
    "        alpha 学习率\n",
    "        theLambda 正规化参数\n",
    "    Returns:\n",
    "        Thetas 更新后的权值矩阵\n",
    "    \"\"\""
   ]
  },
  {
   "cell_type": "code",
   "execution_count": 9,
   "metadata": {
    "collapsed": true
   },
   "outputs": [],
   "source": [
    "def gradient_descent(Thetas, X, y, alpha, regular_lambda):\n",
    "    \"\"\"梯度下降\n",
    "    Args:\n",
    "        X 样本\n",
    "        y 标签\n",
    "        alpha 学习率\n",
    "        theLambda 正规化参数\n",
    "    Returns:\n",
    "        J 预测代价\n",
    "        Thetas 更新后的各层权值矩阵\n",
    "    \"\"\""
   ]
  },
  {
   "cell_type": "code",
   "execution_count": 10,
   "metadata": {
    "collapsed": true
   },
   "outputs": [],
   "source": [
    "def train(X, y, Thetas=None, hidden_num=0, unit_num=0,epsilon=1, regular_lambda=0, precision=0.01, max_inters=50):\n",
    "    \"\"\"网络训练\n",
    "    Args:\n",
    "        X 训练样本\n",
    "        y 标签集\n",
    "        Thetas 初始化的Thetas，如果为None，由系统随机初始化Thetas\n",
    "        hiddenNum 隐藏层数目\n",
    "        unitNum 隐藏层的单元数\n",
    "        epsilon 初始化权值的范围[-epsilon, epsilon]\n",
    "        alpha 学习率\n",
    "        theLambda 正规化参数\n",
    "        precision 误差精度\n",
    "        maxIters 最大迭代次数\n",
    "    \"\"\""
   ]
  },
  {
   "cell_type": "code",
   "execution_count": 11,
   "metadata": {
    "collapsed": true
   },
   "outputs": [],
   "source": [
    "def predict(X, Thetas):\n",
    "    \"\"\"预测函数\n",
    "    Args:\n",
    "        X: 样本\n",
    "        Thetas: 训练后得到的参数\n",
    "    Return:\n",
    "        a\n",
    "    \"\"\""
   ]
  },
  {
   "cell_type": "markdown",
   "metadata": {},
   "source": [
    "## 栗子\n",
    "\n",
    "### 逻辑运算\n",
    "### 手写数字分类"
   ]
  }
 ],
 "metadata": {
  "kernelspec": {
   "display_name": "Python 3",
   "language": "python",
   "name": "python3"
  },
  "language_info": {
   "codemirror_mode": {
    "name": "ipython",
    "version": 3
   },
   "file_extension": ".py",
   "mimetype": "text/x-python",
   "name": "python",
   "nbconvert_exporter": "python",
   "pygments_lexer": "ipython3",
   "version": "3.6.3"
  }
 },
 "nbformat": 4,
 "nbformat_minor": 2
}
