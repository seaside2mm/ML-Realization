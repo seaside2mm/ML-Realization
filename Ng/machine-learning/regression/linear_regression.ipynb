{
 "cells": [
  {
   "cell_type": "markdown",
   "metadata": {},
   "source": [
    "# 梯度下降\n",
    "\n",
    "\n",
    "### 伪代码：\n",
    "\n",
    "- bgd\n",
    "> 优化代价函数是所有关于数据样本的loss，计算整个样本的loss后才更新权值，m为所有样本数量和\n",
    "\n",
    "    初始权值，迭代次数,单次误差，总误差数组，每一次迭代权值矩阵\n",
    "    收敛flag：converged\n",
    "    while 迭代中\n",
    "        if flag: 结束\n",
    "        for 每一个权值，\n",
    "            梯度下降公式，计算每一个下降梯度\n",
    "        更新$\\theta_j$\n",
    "        计算损失函数J\n",
    "        if 误差小于精度：\n",
    "            flag为真\n",
    "    返回\n",
    "  \n",
    "- sgd\n",
    "> 优化的代价函数是单个数据样本的loss，计算每个样本的loss后就可以立即更新权值，即m=1\n",
    "\n",
    "    初始权值，迭代次数,单次误差，总误差数组，每一次迭代权值矩阵\n",
    "    收敛flag：converged\n",
    "    while 迭代中\n",
    "        if flag: 结束\n",
    "        for 每一个权值，\n",
    "            梯度下降公式，计算$\\theta_j$\n",
    "        计算损失函数J\n",
    "        if 误差小于精度：\n",
    "            flag为真\n",
    "    返回\n",
    "            "
   ]
  },
  {
   "cell_type": "code",
   "execution_count": 5,
   "metadata": {},
   "outputs": [],
   "source": [
    "import numpy as np\n",
    "import matplotlib.pyplot as plt\n",
    "from matplotlib import cm \n",
    "from mpl_toolkits.mplot3d import axes3d\n",
    "import matplotlib.ticker as mtick\n",
    "import time"
   ]
  },
  {
   "cell_type": "code",
   "execution_count": 80,
   "metadata": {},
   "outputs": [
    {
     "data": {
      "text/plain": [
       "(97, 1)"
      ]
     },
     "execution_count": 80,
     "metadata": {},
     "output_type": "execute_result"
    }
   ],
   "source": [
    "\n",
    "\n",
    "def exe_time(func):\n",
    "    \"\"\" 耗时计算装饰器 \n",
    "    \"\"\"\n",
    "    def new_func(*args, **args2):\n",
    "        t0 = time.time()\n",
    "        back = func(*args, **args2)\n",
    "        return back, time.time() - t0\n",
    "    return new_func\n",
    "\n",
    "def load_dataset(filename):\n",
    "    \"\"\" 读取数据\n",
    "    数据格式如下：\n",
    "    “f1 tab f2 tab f3 tab label\"\n",
    "    \n",
    "    Args:\n",
    "        filename\n",
    "    Returns:\n",
    "        X: 训练样本集矩阵\n",
    "        y: 标签集矩阵\n",
    "    \"\"\"\n",
    "    feature_number = len(open(filename).readline().split('\\t'))-1   #特征数目 = 总行数 - 1\n",
    "    X = []\n",
    "    y = []\n",
    "    file = open(filename)\n",
    "    for line in file.readlines():   #注意是readlines\n",
    "        feature_list = []\n",
    "        current_line = line.strip().split('\\t')\n",
    "        for i in range(feature_number):\n",
    "            feature_list.append(float(current_line[i]))\n",
    "        X.append(feature_list)\n",
    "        y.append(float(current_line[-1]))\n",
    "    return np.mat(X), np.mat(y).T\n",
    "\n",
    "X, y = load_dataset('data/ex1.txt')\n",
    "X.shape"
   ]
  },
  {
   "cell_type": "code",
   "execution_count": null,
   "metadata": {},
   "outputs": [],
   "source": [
    "\n"
   ]
  },
  {
   "cell_type": "code",
   "execution_count": 81,
   "metadata": {},
   "outputs": [
    {
     "data": {
      "image/png": "[encoded data removed]",
      "text/plain": [
       "<matplotlib.figure.Figure at 0x113ba25c0>"
      ]
     },
     "metadata": {},
     "output_type": "display_data"
    }
   ],
   "source": [
    "# 创建数据\n",
    "X = np.array([[1, 2], [1, 6], [1, 8], [1,12], [1,18]])\n",
    "y = np.array([[2.3],[3.5],[3.9],[7.9],[11.3]])\n",
    "m, n = X.shape\n",
    "theta_ground = np.array([[1],[1]])\n",
    "\n",
    "plt.figure()\n",
    "plt.plot(X[:,1],y,'o')\n",
    "plt.show()"
   ]
  },
  {
   "cell_type": "code",
   "execution_count": 82,
   "metadata": {
    "collapsed": true
   },
   "outputs": [],
   "source": [
    "def h(theta, x):\n",
    "    \"\"\"预测函数\n",
    "    \n",
    "    Args:\n",
    "        theta: 相关系数矩阵\n",
    "        x: 特征矩阵\n",
    "   Return:\n",
    "       预测结果\n",
    "    \"\"\"\n",
    "    return (x @ theta)\n",
    "\n",
    "def J(theta, X, y):\n",
    "    \"\"\"代价函数\n",
    "    \n",
    "    Args:\n",
    "        theta: 相关系数矩阵\n",
    "        X: 样本集矩阵\n",
    "        y: 标签集矩阵\n",
    "        \n",
    "    Return:\n",
    "        预测误差\n",
    "    \"\"\"\n",
    "    m = X.shape[0]\n",
    "    return (X @ theta - y).T @ (X @ theta - y) / (2*m)"
   ]
  },
  {
   "cell_type": "code",
   "execution_count": 83,
   "metadata": {
    "collapsed": true
   },
   "outputs": [],
   "source": [
    "@exe_time\n",
    "def bgd(X, y, learning_rate = 0.01, max_loop = 1000, epsilon = 0.001):\n",
    "    \"\"\"批量梯度下降\n",
    "    \n",
    "    Args:\n",
    "        rate: 学习率\n",
    "        max_loop： 最大迭代次数\n",
    "        epsilon： 收敛精度\n",
    "    Return:\n",
    "        (theta, errors, thetas), time_consumed\n",
    "    \"\"\"\n",
    "    m, n = X.shape  #m 为样本数，  n为特征数\n",
    "    theta = np.zeros((n, 1))\n",
    "    thetas = []\n",
    "    error = float('inf')\n",
    "    errors = []\n",
    "    counts = 0   \n",
    "    while counts < max_loop and error > epsilon:\n",
    "        counts += 1\n",
    "        tmp = np.zeros((n,1))\n",
    "        for j in range(n):\n",
    "            deriv = (X@theta - y).T @ X[:,j] / m\n",
    "            tmp[j] = theta[j] - learning_rate * deriv\n",
    "        theta = tmp\n",
    "        thetas.append(theta.tolist())        \n",
    "        error = J(theta, X, y) \n",
    "        errors.append(error.tolist())\n",
    "    return theta, thetas, errors"
   ]
  },
  {
   "cell_type": "code",
   "execution_count": 84,
   "metadata": {
    "collapsed": true
   },
   "outputs": [],
   "source": [
    "#暂时不清楚问题原因\n",
    "\n",
    "@exe_time\n",
    "def sgd(X, y, learning_rate=0.01, max_loop=1000, epsilon=0.001):\n",
    "    \"\"\"随机梯度下降\n",
    "    \"\"\"\n",
    "    m, n = X.shape\n",
    "    theta = np.zeros((n,1))\n",
    "    thetas = []\n",
    "    error = float('inf')\n",
    "    errors = []\n",
    "    count = 0 \n",
    "    converged = False\n",
    "    while count < max_loop:\n",
    "        if converged:\n",
    "            break\n",
    "        count += 1\n",
    "        for i in range(m):\n",
    "            if converged:\n",
    "                break\n",
    "            diff = h(theta, X[i].T) - y[i]\n",
    "            tmp = np.zeros((n,1))\n",
    "            for j in range(n):\n",
    "                tmp[j] = theta[j] - learning_rate * diff * X[i,j]\n",
    "            theta = tmp\n",
    "            thetas.append(theta.tolist())\n",
    "            error = J(theta, X, y)\n",
    "            errors.append(error.tolist())\n",
    "            if error < epsilon:\n",
    "                converged = True\n",
    "    return theta, thetas, errors\n",
    "    "
   ]
  },
  {
   "cell_type": "code",
   "execution_count": null,
   "metadata": {},
   "outputs": [],
   "source": []
  },
  {
   "cell_type": "markdown",
   "metadata": {
    "collapsed": true
   },
   "source": [
    "# 测试"
   ]
  },
  {
   "cell_type": "code",
   "execution_count": 85,
   "metadata": {},
   "outputs": [],
   "source": [
    "from matplotlib import cm\n",
    "from mpl_toolkits.mplot3d import axes3d\n",
    "import matplotlib.pyplot as plt \n",
    "import matplotlib.ticker as mtick\n",
    "import numpy as np\n",
    "\n",
    "learning_rate = 0.01\n",
    "max_loop =1000\n",
    "epsilon = 0.001\n",
    "\n",
    "result, time_consumed = bgd(X, y, learning_rate, max_loop, epsilon)\n",
    "theta, thetas, errors = result"
   ]
  },
  {
   "cell_type": "code",
   "execution_count": 86,
   "metadata": {},
   "outputs": [
    {
     "ename": "NameError",
     "evalue": "name 'yi' is not defined",
     "output_type": "error",
     "traceback": [
      "\u001b[0;31m---------------------------------------------------------------------------\u001b[0m",
      "\u001b[0;31mNameError\u001b[0m                                 Traceback (most recent call last)",
      "\u001b[0;32m<ipython-input-86-90a56269813e>\u001b[0m in \u001b[0;36m<module>\u001b[0;34m()\u001b[0m\n\u001b[1;32m      4\u001b[0m \u001b[0max\u001b[0m \u001b[0;34m=\u001b[0m \u001b[0mfitting_fig\u001b[0m\u001b[0;34m.\u001b[0m\u001b[0madd_subplot\u001b[0m\u001b[0;34m(\u001b[0m\u001b[0;36m111\u001b[0m\u001b[0;34m,\u001b[0m \u001b[0mtitle\u001b[0m\u001b[0;34m=\u001b[0m\u001b[0mtitle\u001b[0m\u001b[0;34m)\u001b[0m\u001b[0;34m\u001b[0m\u001b[0m\n\u001b[1;32m      5\u001b[0m \u001b[0;31m#training_set\u001b[0m\u001b[0;34m\u001b[0m\u001b[0;34m\u001b[0m\u001b[0m\n\u001b[0;32m----> 6\u001b[0;31m \u001b[0myi\u001b[0m\u001b[0;34m\u001b[0m\u001b[0m\n\u001b[0m",
      "\u001b[0;31mNameError\u001b[0m: name 'yi' is not defined"
     ]
    }
   ],
   "source": [
    "\n",
    "#training_set\n",
    "yi"
   ]
  },
  {
   "cell_type": "code",
   "execution_count": 92,
   "metadata": {},
   "outputs": [
    {
     "name": "stdout",
     "output_type": "stream",
     "text": [
      "The shape of X: (97, 2)\n"
     ]
    }
   ],
   "source": [
    "file_name = 'data/ex1.txt'\n",
    "X, y = load_dataset(file_name)\n",
    "m, n = X.shape    #m: examples number; n: featuer numbers\n",
    "\n",
    "X = np.concatenate((np.ones((m, 1)), X), axis=1)   # 构造矩阵[b X]\n",
    "print(\"The shape of X: \" + str(X.shape))\n",
    "rate = 0.01\n",
    "max_loop = 1500\n",
    "epsilon = 0.01\n",
    "\n",
    "#result, time_consumed = bgd(rate, max_loop, epsilon, X, y)\n",
    "#theta, errors, thetas = result"
   ]
  },
  {
   "cell_type": "code",
   "execution_count": 93,
   "metadata": {},
   "outputs": [
    {
     "data": {
      "image/png": "[encoded data removed]",
      "text/plain": [
       "<matplotlib.figure.Figure at 0x113c86940>"
      ]
     },
     "metadata": {},
     "output_type": "display_data"
    },
    {
     "data": {
      "image/png": "[encoded data removed]",
      "text/plain": [
       "<matplotlib.figure.Figure at 0x11611fbe0>"
      ]
     },
     "metadata": {},
     "output_type": "display_data"
    }
   ],
   "source": [
    "# 绘制拟合曲线\n",
    "fitting_fig = plt.figure()\n",
    "title = \"bgd: learning_rate=%.2f, max_loop=%d, epsilon=%.3f \\n time: %ds \" %(learning_rate, max_loop, epsilon, time_consumed)\n",
    "ax = fitting_fig.add_subplot(111, title=title)\n",
    "training_set = ax.scatter(X[:,1].flatten().A[0], y[:,0].flatten().A[0])\n",
    "x_copy = X.copy()\n",
    "x_copy.sort(0)\n",
    "\n",
    "y_hat = x_copy * theta\n",
    "fitting_line, = ax.plot(x_copy[:,1], y_hat, color='g')\n",
    "\n",
    "ax.set_xlabel('Population of City in 10,000s')\n",
    "ax.set_ylabel('Profit in $10,000s')\n",
    "\n",
    "plt.legend([training_set, fitting_line], ['training set', 'linear regression'])\n",
    "plt.show()"
   ]
  },
  {
   "cell_type": "code",
   "execution_count": 94,
   "metadata": {},
   "outputs": [
    {
     "ename": "ValueError",
     "evalue": "x and y can be no greater than 2-D, but have shapes (1000,) and (1000, 1, 1)",
     "output_type": "error",
     "traceback": [
      "\u001b[0;31m---------------------------------------------------------------------------\u001b[0m",
      "\u001b[0;31mValueError\u001b[0m                                Traceback (most recent call last)",
      "\u001b[0;32m<ipython-input-94-91e6d0adbaca>\u001b[0m in \u001b[0;36m<module>\u001b[0;34m()\u001b[0m\n\u001b[1;32m      4\u001b[0m \u001b[0max\u001b[0m\u001b[0;34m.\u001b[0m\u001b[0myaxis\u001b[0m\u001b[0;34m.\u001b[0m\u001b[0mset_major_formatter\u001b[0m\u001b[0;34m(\u001b[0m\u001b[0mmtick\u001b[0m\u001b[0;34m.\u001b[0m\u001b[0mFormatStrFormatter\u001b[0m\u001b[0;34m(\u001b[0m\u001b[0;34m'%.4f'\u001b[0m\u001b[0;34m)\u001b[0m\u001b[0;34m)\u001b[0m\u001b[0;34m\u001b[0m\u001b[0m\n\u001b[1;32m      5\u001b[0m \u001b[0;34m\u001b[0m\u001b[0m\n\u001b[0;32m----> 6\u001b[0;31m \u001b[0max\u001b[0m\u001b[0;34m.\u001b[0m\u001b[0mplot\u001b[0m\u001b[0;34m(\u001b[0m\u001b[0mrange\u001b[0m\u001b[0;34m(\u001b[0m\u001b[0mlen\u001b[0m\u001b[0;34m(\u001b[0m\u001b[0merrors\u001b[0m\u001b[0;34m)\u001b[0m\u001b[0;34m)\u001b[0m\u001b[0;34m,\u001b[0m \u001b[0merrors\u001b[0m\u001b[0;34m)\u001b[0m\u001b[0;34m\u001b[0m\u001b[0m\n\u001b[0m\u001b[1;32m      7\u001b[0m \u001b[0max\u001b[0m\u001b[0;34m.\u001b[0m\u001b[0mset_xlabel\u001b[0m\u001b[0;34m(\u001b[0m\u001b[0;34m'Number of iterations'\u001b[0m\u001b[0;34m)\u001b[0m\u001b[0;34m\u001b[0m\u001b[0m\n\u001b[1;32m      8\u001b[0m \u001b[0max\u001b[0m\u001b[0;34m.\u001b[0m\u001b[0mset_ylabel\u001b[0m\u001b[0;34m(\u001b[0m\u001b[0;34m'Cost J'\u001b[0m\u001b[0;34m)\u001b[0m\u001b[0;34m\u001b[0m\u001b[0m\n",
      "\u001b[0;32m~/anaconda3/lib/python3.6/site-packages/matplotlib/__init__.py\u001b[0m in \u001b[0;36minner\u001b[0;34m(ax, *args, **kwargs)\u001b[0m\n\u001b[1;32m   1715\u001b[0m                     warnings.warn(msg % (label_namer, func.__name__),\n\u001b[1;32m   1716\u001b[0m                                   RuntimeWarning, stacklevel=2)\n\u001b[0;32m-> 1717\u001b[0;31m             \u001b[0;32mreturn\u001b[0m \u001b[0mfunc\u001b[0m\u001b[0;34m(\u001b[0m\u001b[0max\u001b[0m\u001b[0;34m,\u001b[0m \u001b[0;34m*\u001b[0m\u001b[0margs\u001b[0m\u001b[0;34m,\u001b[0m \u001b[0;34m**\u001b[0m\u001b[0mkwargs\u001b[0m\u001b[0;34m)\u001b[0m\u001b[0;34m\u001b[0m\u001b[0m\n\u001b[0m\u001b[1;32m   1718\u001b[0m         \u001b[0mpre_doc\u001b[0m \u001b[0;34m=\u001b[0m \u001b[0minner\u001b[0m\u001b[0;34m.\u001b[0m\u001b[0m__doc__\u001b[0m\u001b[0;34m\u001b[0m\u001b[0m\n\u001b[1;32m   1719\u001b[0m         \u001b[0;32mif\u001b[0m \u001b[0mpre_doc\u001b[0m \u001b[0;32mis\u001b[0m \u001b[0;32mNone\u001b[0m\u001b[0;34m:\u001b[0m\u001b[0;34m\u001b[0m\u001b[0m\n",
      "\u001b[0;32m~/anaconda3/lib/python3.6/site-packages/matplotlib/axes/_axes.py\u001b[0m in \u001b[0;36mplot\u001b[0;34m(self, *args, **kwargs)\u001b[0m\n\u001b[1;32m   1370\u001b[0m         \u001b[0mkwargs\u001b[0m \u001b[0;34m=\u001b[0m \u001b[0mcbook\u001b[0m\u001b[0;34m.\u001b[0m\u001b[0mnormalize_kwargs\u001b[0m\u001b[0;34m(\u001b[0m\u001b[0mkwargs\u001b[0m\u001b[0;34m,\u001b[0m \u001b[0m_alias_map\u001b[0m\u001b[0;34m)\u001b[0m\u001b[0;34m\u001b[0m\u001b[0m\n\u001b[1;32m   1371\u001b[0m \u001b[0;34m\u001b[0m\u001b[0m\n\u001b[0;32m-> 1372\u001b[0;31m         \u001b[0;32mfor\u001b[0m \u001b[0mline\u001b[0m \u001b[0;32min\u001b[0m \u001b[0mself\u001b[0m\u001b[0;34m.\u001b[0m\u001b[0m_get_lines\u001b[0m\u001b[0;34m(\u001b[0m\u001b[0;34m*\u001b[0m\u001b[0margs\u001b[0m\u001b[0;34m,\u001b[0m \u001b[0;34m**\u001b[0m\u001b[0mkwargs\u001b[0m\u001b[0;34m)\u001b[0m\u001b[0;34m:\u001b[0m\u001b[0;34m\u001b[0m\u001b[0m\n\u001b[0m\u001b[1;32m   1373\u001b[0m             \u001b[0mself\u001b[0m\u001b[0;34m.\u001b[0m\u001b[0madd_line\u001b[0m\u001b[0;34m(\u001b[0m\u001b[0mline\u001b[0m\u001b[0;34m)\u001b[0m\u001b[0;34m\u001b[0m\u001b[0m\n\u001b[1;32m   1374\u001b[0m             \u001b[0mlines\u001b[0m\u001b[0;34m.\u001b[0m\u001b[0mappend\u001b[0m\u001b[0;34m(\u001b[0m\u001b[0mline\u001b[0m\u001b[0;34m)\u001b[0m\u001b[0;34m\u001b[0m\u001b[0m\n",
      "\u001b[0;32m~/anaconda3/lib/python3.6/site-packages/matplotlib/axes/_base.py\u001b[0m in \u001b[0;36m_grab_next_args\u001b[0;34m(self, *args, **kwargs)\u001b[0m\n\u001b[1;32m    402\u001b[0m                 \u001b[0mthis\u001b[0m \u001b[0;34m+=\u001b[0m \u001b[0margs\u001b[0m\u001b[0;34m[\u001b[0m\u001b[0;36m0\u001b[0m\u001b[0;34m]\u001b[0m\u001b[0;34m,\u001b[0m\u001b[0;34m\u001b[0m\u001b[0m\n\u001b[1;32m    403\u001b[0m                 \u001b[0margs\u001b[0m \u001b[0;34m=\u001b[0m \u001b[0margs\u001b[0m\u001b[0;34m[\u001b[0m\u001b[0;36m1\u001b[0m\u001b[0;34m:\u001b[0m\u001b[0;34m]\u001b[0m\u001b[0;34m\u001b[0m\u001b[0m\n\u001b[0;32m--> 404\u001b[0;31m             \u001b[0;32mfor\u001b[0m \u001b[0mseg\u001b[0m \u001b[0;32min\u001b[0m \u001b[0mself\u001b[0m\u001b[0;34m.\u001b[0m\u001b[0m_plot_args\u001b[0m\u001b[0;34m(\u001b[0m\u001b[0mthis\u001b[0m\u001b[0;34m,\u001b[0m \u001b[0mkwargs\u001b[0m\u001b[0;34m)\u001b[0m\u001b[0;34m:\u001b[0m\u001b[0;34m\u001b[0m\u001b[0m\n\u001b[0m\u001b[1;32m    405\u001b[0m                 \u001b[0;32myield\u001b[0m \u001b[0mseg\u001b[0m\u001b[0;34m\u001b[0m\u001b[0m\n\u001b[1;32m    406\u001b[0m \u001b[0;34m\u001b[0m\u001b[0m\n",
      "\u001b[0;32m~/anaconda3/lib/python3.6/site-packages/matplotlib/axes/_base.py\u001b[0m in \u001b[0;36m_plot_args\u001b[0;34m(self, tup, kwargs)\u001b[0m\n\u001b[1;32m    382\u001b[0m             \u001b[0mx\u001b[0m\u001b[0;34m,\u001b[0m \u001b[0my\u001b[0m \u001b[0;34m=\u001b[0m \u001b[0mindex_of\u001b[0m\u001b[0;34m(\u001b[0m\u001b[0mtup\u001b[0m\u001b[0;34m[\u001b[0m\u001b[0;34m-\u001b[0m\u001b[0;36m1\u001b[0m\u001b[0;34m]\u001b[0m\u001b[0;34m)\u001b[0m\u001b[0;34m\u001b[0m\u001b[0m\n\u001b[1;32m    383\u001b[0m \u001b[0;34m\u001b[0m\u001b[0m\n\u001b[0;32m--> 384\u001b[0;31m         \u001b[0mx\u001b[0m\u001b[0;34m,\u001b[0m \u001b[0my\u001b[0m \u001b[0;34m=\u001b[0m \u001b[0mself\u001b[0m\u001b[0;34m.\u001b[0m\u001b[0m_xy_from_xy\u001b[0m\u001b[0;34m(\u001b[0m\u001b[0mx\u001b[0m\u001b[0;34m,\u001b[0m \u001b[0my\u001b[0m\u001b[0;34m)\u001b[0m\u001b[0;34m\u001b[0m\u001b[0m\n\u001b[0m\u001b[1;32m    385\u001b[0m \u001b[0;34m\u001b[0m\u001b[0m\n\u001b[1;32m    386\u001b[0m         \u001b[0;32mif\u001b[0m \u001b[0mself\u001b[0m\u001b[0;34m.\u001b[0m\u001b[0mcommand\u001b[0m \u001b[0;34m==\u001b[0m \u001b[0;34m'plot'\u001b[0m\u001b[0;34m:\u001b[0m\u001b[0;34m\u001b[0m\u001b[0m\n",
      "\u001b[0;32m~/anaconda3/lib/python3.6/site-packages/matplotlib/axes/_base.py\u001b[0m in \u001b[0;36m_xy_from_xy\u001b[0;34m(self, x, y)\u001b[0m\n\u001b[1;32m    244\u001b[0m         \u001b[0;32mif\u001b[0m \u001b[0mx\u001b[0m\u001b[0;34m.\u001b[0m\u001b[0mndim\u001b[0m \u001b[0;34m>\u001b[0m \u001b[0;36m2\u001b[0m \u001b[0;32mor\u001b[0m \u001b[0my\u001b[0m\u001b[0;34m.\u001b[0m\u001b[0mndim\u001b[0m \u001b[0;34m>\u001b[0m \u001b[0;36m2\u001b[0m\u001b[0;34m:\u001b[0m\u001b[0;34m\u001b[0m\u001b[0m\n\u001b[1;32m    245\u001b[0m             raise ValueError(\"x and y can be no greater than 2-D, but have \"\n\u001b[0;32m--> 246\u001b[0;31m                              \"shapes {} and {}\".format(x.shape, y.shape))\n\u001b[0m\u001b[1;32m    247\u001b[0m \u001b[0;34m\u001b[0m\u001b[0m\n\u001b[1;32m    248\u001b[0m         \u001b[0;32mif\u001b[0m \u001b[0mx\u001b[0m\u001b[0;34m.\u001b[0m\u001b[0mndim\u001b[0m \u001b[0;34m==\u001b[0m \u001b[0;36m1\u001b[0m\u001b[0;34m:\u001b[0m\u001b[0;34m\u001b[0m\u001b[0m\n",
      "\u001b[0;31mValueError\u001b[0m: x and y can be no greater than 2-D, but have shapes (1000,) and (1000, 1, 1)"
     ]
    }
   ],
   "source": [
    "#绘制误差曲线\n",
    "errors_fig = plt.figure()\n",
    "ax = errors_fig.add_subplot(111)\n",
    "ax.yaxis.set_major_formatter(mtick.FormatStrFormatter('%.4f'))\n",
    "\n",
    "ax.plot(range(len(errors)), errors)\n",
    "ax.set_xlabel('Number of iterations')\n",
    "ax.set_ylabel('Cost J')\n",
    "\n",
    "plt.show()"
   ]
  },
  {
   "cell_type": "code",
   "execution_count": 95,
   "metadata": {
    "collapsed": true
   },
   "outputs": [],
   "source": [
    "# 绘制能量下降曲面"
   ]
  },
  {
   "cell_type": "code",
   "execution_count": 96,
   "metadata": {
    "collapsed": true
   },
   "outputs": [],
   "source": [
    "# 绘制能量轮廓"
   ]
  },
  {
   "cell_type": "code",
   "execution_count": 97,
   "metadata": {},
   "outputs": [
    {
     "data": {
      "image/png": "[encoded data removed]",
      "text/plain": [
       "<matplotlib.figure.Figure at 0x1169e06d8>"
      ]
     },
     "metadata": {},
     "output_type": "display_data"
    }
   ],
   "source": [
    "#绘制最优解\n",
    "ax.plot(theta[0,0], theta[1,0], 'rx', markersize=10, linewidth=2)\n",
    "\n",
    "#绘制梯度下降过程\n",
    "ax.plot(thetas[0], thetas[1], 'rx', markersize=3, linewidth=1)\n",
    "ax.plot(thetas[0], thetas[1],'r-')\n",
    "plt.show()"
   ]
  },
  {
   "cell_type": "code",
   "execution_count": null,
   "metadata": {
    "collapsed": true
   },
   "outputs": [],
   "source": []
  }
 ],
 "metadata": {
  "kernelspec": {
   "display_name": "Python 3",
   "language": "python",
   "name": "python3"
  },
  "language_info": {
   "codemirror_mode": {
    "name": "ipython",
    "version": 3
   },
   "file_extension": ".py",
   "mimetype": "text/x-python",
   "name": "python",
   "nbconvert_exporter": "python",
   "pygments_lexer": "ipython3",
   "version": "3.6.3"
  }
 },
 "nbformat": 4,
 "nbformat_minor": 2
}
