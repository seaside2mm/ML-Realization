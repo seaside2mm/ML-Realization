{
 "cells": [
  {
   "cell_type": "markdown",
   "metadata": {},
   "source": [
    "[机器学习算法实践-标准与局部加权线性回归](http://python.jobbole.com/88747/)"
   ]
  },
  {
   "cell_type": "code",
   "execution_count": null,
   "metadata": {
    "collapsed": true
   },
   "outputs": [],
   "source": [
    "def J_lwr(theta, X, y, x, c):\n",
    "    \"\"\"局部加权线性回归的代价函数计算式\n",
    "\n",
    "    Args:\n",
    "        theta: 相关系数矩阵\n",
    "        X: 样本集矩阵\n",
    "        y: 标签集矩阵\n",
    "        x: 待预测输入\n",
    "        c: tau\n",
    "    Returns:\n",
    "        预测代价\n",
    "    \"\"\""
   ]
  },
  {
   "cell_type": "code",
   "execution_count": null,
   "metadata": {
    "collapsed": true
   },
   "outputs": [],
   "source": [
    "def lwr(rate, maxLoop, epsilon, X, y, x, c=1):\n",
    "    \"\"\"局部加权线性回归\n",
    "\n",
    "    Args:\n",
    "        rate: 学习率\n",
    "        maxLoop: 最大迭代次数\n",
    "        epsilon: 预测精度\n",
    "        X: 输入样本\n",
    "        y: 标签向量\n",
    "        x: 待预测向量\n",
    "        c: tau\n",
    "    \"\"\""
   ]
  },
  {
   "cell_type": "code",
   "execution_count": null,
   "metadata": {
    "collapsed": true
   },
   "outputs": [],
   "source": [
    "import regression\n",
    "import matplotlib.pyplot as plt\n",
    "import matplotlib.ticker as mtick\n",
    "import numpy as np\n",
    "\n",
    "if __name__ == \"__main__\":\n",
    "    srcX, y = regression.loadDataSet('data/lwr.txt');\n",
    "\n",
    "    m,n = srcX.shape\n",
    "    srcX = np.concatenate((srcX[:, 0], np.power(srcX[:, 0],2)), axis=1)\n",
    "    # 特征缩放\n",
    "    X = regression.standardize(srcX.copy())\n",
    "    X = np.concatenate((np.ones((m,1)), X), axis=1)\n",
    "\n",
    "    rate = 0.1\n",
    "    maxLoop = 1000\n",
    "    epsilon = 0.01\n",
    "\n",
    "    predicateX = regression.standardize(np.matrix([[8, 64]]))\n",
    "\n",
    "    predicateX = np.concatenate((np.ones((1,1)), predicateX), axis=1)\n",
    "\n",
    "    result, t = regression.lwr(rate, maxLoop, epsilon, X, y, predicateX, 1)\n",
    "    theta, errors, thetas = result\n",
    "\n",
    "    result2, t = regression.lwr(rate, maxLoop, epsilon, X, y, predicateX, 0.1)\n",
    "    theta2, errors2, thetas2 = result2\n",
    "\n",
    "\n",
    "    # 打印特征点\n",
    "    fittingFig = plt.figure()\n",
    "    title = 'polynomial with bgd: rate=%.2f, maxLoop=%d, epsilon=%.3f'%(rate,maxLoop,epsilon)\n",
    "    ax = fittingFig.add_subplot(111, title=title)\n",
    "    trainingSet = ax.scatter(srcX[:, 0].flatten().A[0], y[:,0].flatten().A[0])\n",
    "\n",
    "    print theta\n",
    "    print theta2\n",
    "\n",
    "    # 打印拟合曲线\n",
    "    xx = np.linspace(1, 7, 50)\n",
    "    xx2 = np.power(xx,2)\n",
    "    yHat1 = []\n",
    "    yHat2 = []\n",
    "    for i in range(50):\n",
    "        normalizedSize = (xx[i]-xx.mean())/xx.std(0)\n",
    "        normalizedSize2 = (xx2[i]-xx2.mean())/xx2.std(0)\n",
    "        x = np.matrix([[1,normalizedSize, normalizedSize2]])\n",
    "        yHat1.append(regression.h(theta, x.T))\n",
    "        yHat2.append(regression.h(theta2, x.T))\n",
    "    fittingLine1, = ax.plot(xx, yHat1, color='g')\n",
    "    fittingLine2, = ax.plot(xx, yHat2, color='r')\n",
    "\n",
    "    ax.set_xlabel('temperature')\n",
    "    ax.set_ylabel('yield')\n",
    "\n",
    "    plt.legend([trainingSet, fittingLine1, fittingLine2], ['Training Set', r'LWR with $\\tau$=1', r'LWR with $\\tau$=0.1'])\n",
    "    plt.show()\n",
    "\n",
    "    # 打印误差曲线\n",
    "    errorsFig = plt.figure()\n",
    "    ax = errorsFig.add_subplot(111)\n",
    "    ax.yaxis.set_major_formatter(mtick.FormatStrFormatter('%.2e'))\n",
    "\n",
    "    ax.plot(range(len(errors)), errors)\n",
    "    ax.set_xlabel('Number of iterations')\n",
    "    ax.set_ylabel('Cost J')\n",
    "\n",
    "    plt.show()"
   ]
  }
 ],
 "metadata": {
  "kernelspec": {
   "display_name": "Python 3",
   "language": "python",
   "name": "python3"
  },
  "language_info": {
   "codemirror_mode": {
    "name": "ipython",
    "version": 3
   },
   "file_extension": ".py",
   "mimetype": "text/x-python",
   "name": "python",
   "nbconvert_exporter": "python",
   "pygments_lexer": "ipython3",
   "version": "3.6.3"
  }
 },
 "nbformat": 4,
 "nbformat_minor": 2
}
