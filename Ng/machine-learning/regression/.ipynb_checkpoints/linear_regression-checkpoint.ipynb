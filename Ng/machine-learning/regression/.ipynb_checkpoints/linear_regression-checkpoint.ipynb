{
 "cells": [
  {
   "cell_type": "markdown",
   "metadata": {},
   "source": [
    "# 梯度下降\n",
    "\n",
    "\n",
    "### 伪代码：\n",
    "\n",
    "- bgd\n",
    "> 优化代价函数是所有关于数据样本的loss，计算整个样本的loss后才更新权值，m为所有样本数量和\n",
    "\n",
    "    初始权值，迭代次数,单次误差，总误差数组，每一次迭代权值矩阵\n",
    "    收敛flag：converged\n",
    "    while 迭代中\n",
    "        if flag: 结束\n",
    "        for 每一个权值，\n",
    "            梯度下降公式，计算每一个下降梯度\n",
    "        更新$\\theta_j$\n",
    "        计算损失函数J\n",
    "        if 误差小于精度：\n",
    "            flag为真\n",
    "    返回\n",
    "  \n",
    "- sgd\n",
    "> 优化的代价函数是单个数据样本的loss，计算每个样本的loss后就可以立即更新权值，即m=1\n",
    "\n",
    "    初始权值，迭代次数,单次误差，总误差数组，每一次迭代权值矩阵\n",
    "    收敛flag：converged\n",
    "    while 迭代中\n",
    "        if flag: 结束\n",
    "        for 每一个权值，\n",
    "            梯度下降公式，计算$\\theta_j$\n",
    "        计算损失函数J\n",
    "        if 误差小于精度：\n",
    "            flag为真\n",
    "    返回\n",
    "            "
   ]
  },
  {
   "cell_type": "code",
   "execution_count": null,
   "metadata": {
    "collapsed": true
   },
   "outputs": [],
   "source": []
  },
  {
   "cell_type": "code",
   "execution_count": 2,
   "metadata": {
    "collapsed": true
   },
   "outputs": [],
   "source": [
    "import numpy as np\n",
    "import matplotlib.pyplot as plt\n",
    "import time\n",
    "\n",
    "def exe_time(func):\n",
    "    \"\"\" 耗时计算装饰器 \n",
    "    \"\"\"\n",
    "    def new_func(*args, **args2):\n",
    "        t0 = time.time()\n",
    "        back = func(*args, **args2)\n",
    "        return back, time.time() - t0\n",
    "    return new_func\n",
    "\n",
    "def load_dataset(filename):\n",
    "    \"\"\" 读取数据\n",
    "    数据格式如下：\n",
    "    “f1 tab f2 tab f3 tab label\"\n",
    "    \n",
    "    Args:\n",
    "        filename\n",
    "    Returns:\n",
    "        X: 训练样本集矩阵\n",
    "        y: 标签集矩阵\n",
    "    \"\"\"\n",
    "    pass\n",
    "    "
   ]
  },
  {
   "cell_type": "code",
   "execution_count": 11,
   "metadata": {},
   "outputs": [
    {
     "data": {
      "image/png": "[encoded data removed]",
      "text/plain": [
       "<matplotlib.figure.Figure at 0x10bd995f8>"
      ]
     },
     "metadata": {},
     "output_type": "display_data"
    }
   ],
   "source": [
    "# 创建数据\n",
    "X = np.array([[1, 2], [1, 6], [1, 8], [1,12], [1,18]])\n",
    "y = np.array([[2.3],[3.5],[3.9],[7.9],[11.3]])\n",
    "m, n = X.shape\n",
    "theta_ground = np.array([[1],[1]])\n",
    "\n",
    "plt.figure()\n",
    "plt.plot(X[:,1],y,'o')\n",
    "plt.show()"
   ]
  },
  {
   "cell_type": "code",
   "execution_count": 12,
   "metadata": {
    "collapsed": true
   },
   "outputs": [],
   "source": [
    "def h(theta, x):\n",
    "    \"\"\"预测函数\n",
    "    \n",
    "    Args:\n",
    "        theta: 相关系数矩阵\n",
    "        x: 特征矩阵\n",
    "   Return:\n",
    "       预测结果\n",
    "    \"\"\"\n",
    "    return (x @ theta)\n",
    "\n",
    "def J(theta, X, y):\n",
    "    \"\"\"代价函数\n",
    "    \n",
    "    Args:\n",
    "        theta: 相关系数矩阵\n",
    "        X: 样本集矩阵\n",
    "        y: 标签集矩阵\n",
    "        \n",
    "    Return:\n",
    "        预测误差\n",
    "    \"\"\"\n",
    "    m = X.shape[0]\n",
    "    return (X @ theta - y).T @ (X @ theta - y) / (2*m)"
   ]
  },
  {
   "cell_type": "code",
   "execution_count": 19,
   "metadata": {
    "collapsed": true
   },
   "outputs": [],
   "source": [
    "@exe_time\n",
    "def bgd(X, y, learning_rate = 0.01, max_loop = 1000, epsilon = 0.001):\n",
    "    \"\"\"批量梯度下降\n",
    "    \n",
    "    Args:\n",
    "        rate: 学习率\n",
    "        max_loop： 最大迭代次数\n",
    "        epsilon： 收敛精度\n",
    "    Return:\n",
    "        (theta, errors, thetas), time_consumed\n",
    "    \"\"\"\n",
    "    m, n = X.shape  #m 为样本数，  n为特征数\n",
    "    theta = np.zeros((n, 1))\n",
    "    thetas = []\n",
    "    error = float('inf')\n",
    "    errors = []\n",
    "    counts = 0   \n",
    "    while counts < max_loop and error > epsilon:\n",
    "        counts += 1\n",
    "        tmp = np.zeros((n,1))\n",
    "        for j in range(n):\n",
    "            deriv = (X@theta - y).T @ X[:,j] / m\n",
    "            tmp[j] = theta[j] - learning_rate * deriv\n",
    "        theta = tmp\n",
    "        thetas.append(theta.tolist())        \n",
    "        error = J(theta, X, y) \n",
    "        errors.append(error.tolist())\n",
    "    return theta, thetas, errors"
   ]
  },
  {
   "cell_type": "code",
   "execution_count": 20,
   "metadata": {
    "collapsed": true
   },
   "outputs": [],
   "source": [
    "#暂时不清楚问题原因\n",
    "\n",
    "@exe_time\n",
    "def sgd(X, y, learning_rate=0.01, max_loop=1000, epsilon=0.001):\n",
    "    \"\"\"随机梯度下降\n",
    "    \"\"\"\n",
    "    m, n = X.shape\n",
    "    theta = np.zeros((n,1))\n",
    "    thetas = []\n",
    "    error = float('inf')\n",
    "    errors = []\n",
    "    count = 0 \n",
    "    converged = False\n",
    "    while count < max_loop:\n",
    "        if converged:\n",
    "            break\n",
    "        count += 1\n",
    "        for i in range(m):\n",
    "            if converged:\n",
    "                break\n",
    "            diff = h(theta, X[i].T) - y[i]\n",
    "            tmp = np.zeros((n,1))\n",
    "            for j in range(n):\n",
    "                tmp[j] = theta[j] - learning_rate * diff * X[i,j]\n",
    "            theta = tmp\n",
    "            thetas.append(theta.tolist())\n",
    "            error = J(theta, X, y)\n",
    "            errors.append(error.tolist())\n",
    "            if error < epsilon:\n",
    "                converged = True\n",
    "    return theta, thetas, errors\n",
    "    "
   ]
  },
  {
   "cell_type": "code",
   "execution_count": 18,
   "metadata": {},
   "outputs": [
    {
     "name": "stdout",
     "output_type": "stream",
     "text": [
      "(array([[ 0.25334077],\n",
      "       [ 0.60025883]]), array([[ 0.24321843]])) 0.06715798377990723\n",
      "(array([[ 1.9822039 ],\n",
      "       [ 0.34019209]]), array([[ 1.46241973]])) 0.14585280418395996\n"
     ]
    }
   ],
   "source": []
  },
  {
   "cell_type": "markdown",
   "metadata": {
    "collapsed": true
   },
   "source": [
    "# 测试"
   ]
  },
  {
   "cell_type": "code",
   "execution_count": 22,
   "metadata": {
    "collapsed": true
   },
   "outputs": [],
   "source": [
    "from matplotlib import cm\n",
    "from mpl_toolkits.mplot3d import axes3d\n",
    "import matplotlib.pyplot as plt \n",
    "import matplotlib.ticker as mtick\n",
    "import numpy as np\n",
    "\n",
    "learning_rate = 0.01\n",
    "max_loop =1000\n",
    "epsilon = 0.001\n",
    "\n",
    "result, time_consumed = bgd(X, y, learning_rate, max_loop, epsilon)\n",
    "theta, thetas, errors = result"
   ]
  },
  {
   "cell_type": "code",
   "execution_count": 1,
   "metadata": {},
   "outputs": [
    {
     "ename": "NameError",
     "evalue": "name 'plt' is not defined",
     "output_type": "error",
     "traceback": [
      "\u001b[0;31m---------------------------------------------------------------------------\u001b[0m",
      "\u001b[0;31mNameError\u001b[0m                                 Traceback (most recent call last)",
      "\u001b[0;32m<ipython-input-1-90a56269813e>\u001b[0m in \u001b[0;36m<module>\u001b[0;34m()\u001b[0m\n\u001b[1;32m      1\u001b[0m \u001b[0;31m# 绘制拟合曲线\u001b[0m\u001b[0;34m\u001b[0m\u001b[0;34m\u001b[0m\u001b[0m\n\u001b[0;32m----> 2\u001b[0;31m \u001b[0mfitting_fig\u001b[0m \u001b[0;34m=\u001b[0m \u001b[0mplt\u001b[0m\u001b[0;34m.\u001b[0m\u001b[0mfigure\u001b[0m\u001b[0;34m(\u001b[0m\u001b[0;34m)\u001b[0m\u001b[0;34m\u001b[0m\u001b[0m\n\u001b[0m\u001b[1;32m      3\u001b[0m \u001b[0mtitle\u001b[0m \u001b[0;34m=\u001b[0m \u001b[0;34m\"bgd: learning_rate=%.2f, max_loop=%d, epsilon=%.3f \\n time: %ds \"\u001b[0m \u001b[0;34m%\u001b[0m\u001b[0;34m(\u001b[0m\u001b[0mlearning_rate\u001b[0m\u001b[0;34m,\u001b[0m \u001b[0mmax_loop\u001b[0m\u001b[0;34m,\u001b[0m \u001b[0mepsilon\u001b[0m\u001b[0;34m,\u001b[0m \u001b[0mtime_consumed\u001b[0m\u001b[0;34m)\u001b[0m\u001b[0;34m\u001b[0m\u001b[0m\n\u001b[1;32m      4\u001b[0m \u001b[0max\u001b[0m \u001b[0;34m=\u001b[0m \u001b[0mfitting_fig\u001b[0m\u001b[0;34m.\u001b[0m\u001b[0madd_subplot\u001b[0m\u001b[0;34m(\u001b[0m\u001b[0;36m111\u001b[0m\u001b[0;34m,\u001b[0m \u001b[0mtitle\u001b[0m\u001b[0;34m=\u001b[0m\u001b[0mtitle\u001b[0m\u001b[0;34m)\u001b[0m\u001b[0;34m\u001b[0m\u001b[0m\n\u001b[1;32m      5\u001b[0m \u001b[0;31m#training_set\u001b[0m\u001b[0;34m\u001b[0m\u001b[0;34m\u001b[0m\u001b[0m\n",
      "\u001b[0;31mNameError\u001b[0m: name 'plt' is not defined"
     ]
    }
   ],
   "source": [
    "# 绘制拟合曲线\n",
    "fitting_fig = plt.figure()\n",
    "title = \"bgd: learning_rate=%.2f, max_loop=%d, epsilon=%.3f \\n time: %ds \" %(learning_rate, max_loop, epsilon, time_consumed)\n",
    "ax = fitting_fig.add_subplot(111, title=title)\n",
    "#training_set\n",
    "yi"
   ]
  },
  {
   "cell_type": "code",
   "execution_count": null,
   "metadata": {
    "collapsed": true
   },
   "outputs": [],
   "source": [
    "if __name__ == \"__main__\":\n",
    "    X, y = load_dataset('data/ex1.txt')"
   ]
  }
 ],
 "metadata": {
  "kernelspec": {
   "display_name": "Python 3",
   "language": "python",
   "name": "python3"
  },
  "language_info": {
   "codemirror_mode": {
    "name": "ipython",
    "version": 3
   },
   "file_extension": ".py",
   "mimetype": "text/x-python",
   "name": "python",
   "nbconvert_exporter": "python",
   "pygments_lexer": "ipython3",
   "version": "3.6.3"
  }
 },
 "nbformat": 4,
 "nbformat_minor": 2
}
