{
 "cells": [
  {
   "cell_type": "markdown",
   "metadata": {},
   "source": [
    "# 1. 线性回归\n",
    "\n",
    "- 代价函数： 为了评估待定系数$\\theta$准确度\n",
    "** $J(\\theta)=\\frac{1}{2}\\sum_{i=0}^m(h_{\\theta}(x^{(i)})-y^{(i)})^2 \\tag{1}$ **"
   ]
  },
  {
   "cell_type": "markdown",
   "metadata": {},
   "source": [
    "# 数学基础\n",
    "\n",
    "\n",
    "- ###  Jacobian矩阵\n",
    "$$% <![CDATA[\n",
    "J(A)=\\frac{\\mathrm{d}f}{\\mathrm{d}x}=\n",
    "\\begin{bmatrix}\n",
    "     \\frac{\\partial f_1}{\\partial x_1} & \\cdots & \\frac{\\partial f_1}{\\partial x_n} \\\\\n",
    "     \\vdots & \\ddots & \\vdots \\\\\n",
    "     \\frac{\\partial f_m}{\\partial x_1} & \\cdots & \\frac{\\partial f_m}{\\partial x_n}    \n",
    "\\end{bmatrix} %]]>$$\n",
    "\n",
    "- ### Hessian矩阵\n",
    "$$% <![CDATA[\n",
    "H(A)=\n",
    "\\begin{bmatrix}\n",
    "     \\frac{\\partial^2 f}{\\partial x_1^2} & \\frac{\\partial^2 f}{\\partial x_1\\partial x_2} & \\cdots & \\frac{\\partial^2 f}{\\partial x_1\\partial x_n} \\\\\n",
    "     \\frac{\\partial^2 f}{\\partial x_2\\partial x_1} & \\frac{\\partial^2 f}{\\partial x_2^2} & \\cdots & \\frac{\\partial^2 f}{\\partial x_2\\partial x_n} \\\\\n",
    "     \\vdots & \\vdots & \\ddots & \\vdots \\\\\n",
    "     \\frac{\\partial^2 f}{\\partial x_n\\partial x_1} & \\frac{\\partial^2 f}{\\partial x_n\\partial x_2} & \\cdots & \\frac{\\partial^2 f}{\\partial x_n^2} \\\\    \n",
    "\\end{bmatrix} %]]>$$\n",
    "\n",
    "- ### 梯度下降\n",
    "** $$x_{k+1}=x_k-t_kA_k\\nabla f(x_k)$$ **\n",
    "> 其中，$t_k$表示迭代的步长，$\\nabla f(x_k)$为梯度向量，$A_k$为系数矩阵。\n",
    "根据$t_k, A_k$的取法不同会产生出各种各样的变种算法。\n",
    ">> 例如，当$A_k=H(x_k)^{-1}$时，就是著名的牛顿迭代法（Newton Method）。可以证明，牛顿迭代法具有二阶收敛性（在二阶以内的所有系数矩阵中，收敛最快）\n",
    "\n",
    "- ### 最小均方（Least mean squares, LMS)\n",
    "**  $$\\theta_j:=\\theta_j-\\alpha\\frac{\\partial J(\\theta)}{\\partial \\theta_j} \\tag{3}$$\n",
    "> 迭代方式\n",
    "> -  批量梯度下降（batch  gradient descent)\n",
    ">> $\\theta_j:=\\theta_j+\\alpha\\sum_{i=1}^m(y^{(i)}-h_{\\theta}(x^{(i)}))x^{(i)}_j$\n",
    "> -  随机梯度下降（stochastic gradient descent)\n",
    ">> 从1到m.\n",
    " 计算$\\theta_j:=\\theta_j+\\alpha(y^{(i)}-h_{\\theta}(x^{(i)}))x^{(i)}_j$  (for every j)\n",
    "\n"
   ]
  },
  {
   "cell_type": "markdown",
   "metadata": {},
   "source": [
    "### 参考\n",
    "[线性回归](http://antkillerfarm.github.io/ml/2016/07/27/Machine_Learning.html)"
   ]
  },
  {
   "cell_type": "markdown",
   "metadata": {},
   "source": []
  },
  {
   "cell_type": "code",
   "execution_count": null,
   "metadata": {
    "collapsed": true
   },
   "outputs": [],
   "source": []
  }
 ],
 "metadata": {
  "kernelspec": {
   "display_name": "Python 3",
   "language": "python",
   "name": "python3"
  },
  "language_info": {
   "codemirror_mode": {
    "name": "ipython",
    "version": 3
   },
   "file_extension": ".py",
   "mimetype": "text/x-python",
   "name": "python",
   "nbconvert_exporter": "python",
   "pygments_lexer": "ipython3",
   "version": "3.6.3"
  }
 },
 "nbformat": 4,
 "nbformat_minor": 2
}
