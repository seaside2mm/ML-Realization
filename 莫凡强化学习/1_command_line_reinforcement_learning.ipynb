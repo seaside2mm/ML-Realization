{
 "cells": [
  {
   "cell_type": "markdown",
   "metadata": {},
   "source": [
    "[github](https://github.com/MorvanZhou/Reinforcement-learning-with-tensorflow/blob/master/contents/1_command_line_reinforcement_learning/treasure_on_right.py)\n",
    "[course](https://morvanzhou.github.io/tutorials/machine-learning/reinforcement-learning/2-1-general-rl/)"
   ]
  },
  {
   "cell_type": "code",
   "execution_count": 2,
   "metadata": {
    "collapsed": true
   },
   "outputs": [],
   "source": [
    "import numpy as np\n",
    "import pandas as pd\n",
    "import time"
   ]
  },
  {
   "cell_type": "code",
   "execution_count": 3,
   "metadata": {
    "collapsed": true
   },
   "outputs": [],
   "source": [
    "np.random.seed(2)"
   ]
  },
  {
   "cell_type": "code",
   "execution_count": 4,
   "metadata": {
    "collapsed": true
   },
   "outputs": [],
   "source": [
    "N_STATES = 6   #1维世界的宽度\n",
    "ACTIONS = ['left', 'right']  #探索者的可用动作\n",
    "EPSILON = 0.9  #贪婪度 greddy\n",
    "ALPHA = 0.1    #学习率\n",
    "GAMMA = 0.9    #奖励递减值\n",
    "MAX_EPISODES = 13  #最大回合数\n",
    "FRESH_TIME = 0.01  #移动间隔时间"
   ]
  },
  {
   "cell_type": "markdown",
   "metadata": {},
   "source": [
    "## Q表\n",
    "> 将所有q value行为值放入其中，更新q表也就是更新行为准则，其y轴是state（探索者位置），x轴是action（探索者行为）"
   ]
  },
  {
   "cell_type": "code",
   "execution_count": 5,
   "metadata": {},
   "outputs": [
    {
     "data": {
      "text/html": [
       "<div>\n",
       "<style>\n",
       "    .dataframe thead tr:only-child th {\n",
       "        text-align: right;\n",
       "    }\n",
       "\n",
       "    .dataframe thead th {\n",
       "        text-align: left;\n",
       "    }\n",
       "\n",
       "    .dataframe tbody tr th {\n",
       "        vertical-align: top;\n",
       "    }\n",
       "</style>\n",
       "<table border=\"1\" class=\"dataframe\">\n",
       "  <thead>\n",
       "    <tr style=\"text-align: right;\">\n",
       "      <th></th>\n",
       "      <th>left</th>\n",
       "      <th>right</th>\n",
       "    </tr>\n",
       "  </thead>\n",
       "  <tbody>\n",
       "    <tr>\n",
       "      <th>0</th>\n",
       "      <td>0.0</td>\n",
       "      <td>0.0</td>\n",
       "    </tr>\n",
       "    <tr>\n",
       "      <th>1</th>\n",
       "      <td>0.0</td>\n",
       "      <td>0.0</td>\n",
       "    </tr>\n",
       "    <tr>\n",
       "      <th>2</th>\n",
       "      <td>0.0</td>\n",
       "      <td>0.0</td>\n",
       "    </tr>\n",
       "    <tr>\n",
       "      <th>3</th>\n",
       "      <td>0.0</td>\n",
       "      <td>0.0</td>\n",
       "    </tr>\n",
       "    <tr>\n",
       "      <th>4</th>\n",
       "      <td>0.0</td>\n",
       "      <td>0.0</td>\n",
       "    </tr>\n",
       "    <tr>\n",
       "      <th>5</th>\n",
       "      <td>0.0</td>\n",
       "      <td>0.0</td>\n",
       "    </tr>\n",
       "  </tbody>\n",
       "</table>\n",
       "</div>"
      ],
      "text/plain": [
       "   left  right\n",
       "0   0.0    0.0\n",
       "1   0.0    0.0\n",
       "2   0.0    0.0\n",
       "3   0.0    0.0\n",
       "4   0.0    0.0\n",
       "5   0.0    0.0"
      ]
     },
     "execution_count": 5,
     "metadata": {},
     "output_type": "execute_result"
    }
   ],
   "source": [
    "def build_q_table(n_states, actions):\n",
    "    table = pd.DataFrame(\n",
    "        np.zeros((n_states, len(actions))),   #q_table全0初始化\n",
    "        columns = actions,\n",
    "    )\n",
    "    #print(table)\n",
    "    return table\n",
    "q_table = build_q_table(N_STATES, ACTIONS)\n",
    "q_table"
   ]
  },
  {
   "cell_type": "code",
   "execution_count": 9,
   "metadata": {
    "collapsed": true
   },
   "outputs": [],
   "source": [
    "def choose_action(state, q_table):\n",
    "    state_ations = q_table.iloc[state, :]  #选出这个state所有action\n",
    "    if (np.random.uniform() > EPSILON) or (state_ations.all() == 0):  #根据epsilon，探索或者利用\n",
    "        action_name = np.random.choice(ACTIONS)  #探索\n",
    "    else:\n",
    "        action_name = state_ations.argmax()    #利用\n",
    "    return action_name"
   ]
  },
  {
   "cell_type": "code",
   "execution_count": 10,
   "metadata": {
    "collapsed": true
   },
   "outputs": [],
   "source": [
    "#作出行为，环境反馈。即上个state作出action，在下一个state_得到reward。\n",
    "#只有到达最右端才会得到r=1，其余为0\n",
    "\n",
    "def get_env_feedback(S, A):\n",
    "    # this is how agent will interact with the environment\n",
    "    if A == 'right':\n",
    "        if S == N_STATES - 2:  #terminate\n",
    "            S_ = 'terminal'\n",
    "            R = 1\n",
    "        else:\n",
    "            S_ = S + 1\n",
    "            R = 0\n",
    "    else:\n",
    "        R = 0\n",
    "        if S == 0:\n",
    "            S_ = S  #reach the wall\n",
    "        else:\n",
    "            S_ = S - 1\n",
    "    return S_, R"
   ]
  },
  {
   "cell_type": "code",
   "execution_count": 11,
   "metadata": {
    "collapsed": true
   },
   "outputs": [],
   "source": [
    "def update_env(S, episode, step_counter):\n",
    "    # This is how environment be updated\n",
    "    env_list = ['-']*(N_STATES-1) + ['T']   # '---------T' our environment\n",
    "    if S == 'terminal':\n",
    "        interaction = 'Episode %s: total_steps = %s' % (episode+1, step_counter)\n",
    "        print('\\r{}'.format(interaction), end='')\n",
    "        time.sleep(2)\n",
    "        print('\\r                                ', end='')\n",
    "    else:\n",
    "        env_list[S] = 'o'\n",
    "        interaction = ''.join(env_list)\n",
    "        print('\\r{}'.format(interaction), end='')\n",
    "        time.sleep(FRESH_TIME)"
   ]
  },
  {
   "cell_type": "markdown",
   "metadata": {},
   "source": [
    "## Q学习算法：\n",
    "\n",
    "![image.png](https://raw.githubusercontent.com/seaside2mm/github-photos/master/q2.png)\n",
    "![image.png](https://raw.githubusercontent.com/seaside2mm/github-photos/master/q3.png)\n",
    "![image.png](https://raw.githubusercontent.com/seaside2mm/github-photos/master/q4.png)\n",
    "\n",
    "### Steps:\n",
    "```\n",
    "初始化q表\n",
    "Repeat (for each step of episode):\n",
    "    while not terminated：\n",
    "        根据q表，决定策略，探索还是利用，从当前state，决定action\n",
    "        作出action，观测reward，state_\n",
    "        更新q表， 新q值 = 原来q值 + 学习效率*（真实值q_target - 估计值q_predict）\n",
    "        state移动到state_\n",
    "        环境更新\n",
    " ```\n",
    " \n",
    "### 要求\n",
    "> 1. 能够自己编写下面算法。\n",
    "> 2. 可以根据不同参数，比如学习率，奖励递减值等，探究一下收敛速度等等，并且作图表示。"
   ]
  },
  {
   "cell_type": "code",
   "execution_count": 14,
   "metadata": {
    "collapsed": true
   },
   "outputs": [],
   "source": [
    "def rl():\n",
    "    q_table = build_q_table(N_STATES, ACTIONS)  #初始化q table\n",
    "    for episode in range(MAX_EPISODES):\n",
    "        step_counter = 0\n",
    "        S = 0 #回合初始位置\n",
    "        is_terminated = False\n",
    "        update_env(S, episode, step_counter) #环境更新\n",
    "        while not is_terminated:\n",
    "            A = choose_action(S, q_table)  \n",
    "            S_, R = get_env_feedback(S, A)   #实施行为得到环境反馈\n",
    "            q_predict = q_table.loc[S, A]  #估算的状态行为值\n",
    "            if S_ != 'terminal':\n",
    "                q_target = R + GAMMA * q_table.iloc[S_,:].max()    #实际状态行为值（回合没有结束）\n",
    "            else:\n",
    "                q_target = R  #回合结束\n",
    "                is_terminated = True\n",
    "            q_table.loc[S, A] += ALPHA * (q_target - q_predict)  #q_table更新\n",
    "            S = S_\n",
    "            \n",
    "            update_env(S, episode, step_counter+1)  \n",
    "            \n",
    "            step_counter += 1\n",
    "        return q_table"
   ]
  },
  {
   "cell_type": "code",
   "execution_count": 15,
   "metadata": {},
   "outputs": [
    {
     "name": "stdout",
     "output_type": "stream",
     "text": [
      "                                \n",
      "Q-table:\n",
      "\n",
      "   left  right\n",
      "0   0.0    0.0\n",
      "1   0.0    0.0\n",
      "2   0.0    0.0\n",
      "3   0.0    0.0\n",
      "4   0.0    0.1\n",
      "5   0.0    0.0\n"
     ]
    }
   ],
   "source": [
    "if __name__ == '__main__':\n",
    "    q_table = rl()\n",
    "    print(\"\\r\\nQ-table:\\n\")\n",
    "    print(q_table)"
   ]
  },
  {
   "cell_type": "code",
   "execution_count": null,
   "metadata": {
    "collapsed": true
   },
   "outputs": [],
   "source": []
  }
 ],
 "metadata": {
  "kernelspec": {
   "display_name": "Python 3",
   "language": "python",
   "name": "python3"
  },
  "language_info": {
   "codemirror_mode": {
    "name": "ipython",
    "version": 3
   },
   "file_extension": ".py",
   "mimetype": "text/x-python",
   "name": "python",
   "nbconvert_exporter": "python",
   "pygments_lexer": "ipython3",
   "version": "3.6.3"
  }
 },
 "nbformat": 4,
 "nbformat_minor": 2
}
